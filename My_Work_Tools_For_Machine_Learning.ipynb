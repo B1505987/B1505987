{
 "cells": [
  {
   "cell_type": "markdown",
   "id": "78ea4a6d",
   "metadata": {},
   "source": [
    "# **Exercise 1: Create a Jupyter Notebook**\n",
    "\n",
    "## Name: Peer-graded_Assignment_Submitting_My_Work_Tools_For_Machine_Learning"
   ]
  },
  {
   "cell_type": "markdown",
   "id": "abc848da",
   "metadata": {},
   "source": [
    "# **Exercise 2 - Create a markdown cell with the title of the notebook.**\n",
    "\n",
    "### **Data Science Tools and Ecosystem**"
   ]
  },
  {
   "cell_type": "markdown",
   "id": "9713e79c",
   "metadata": {},
   "source": [
    "# **Exercise 3 - Create a markdown cell for an introduction**\n",
    "\n",
    "In this notebook, Data Science Tools and Ecosystem are summarized."
   ]
  },
  {
   "cell_type": "markdown",
   "id": "95d94a08",
   "metadata": {},
   "source": [
    "**Objectives:**\n",
    "\n",
    "+ Create markdown cells.\n",
    "\n",
    "+ Add comments to code cells.\n",
    "\n",
    "+ List popular languages that Data Scientists use.\n",
    "\n",
    "+ List commonly used libraries used by Data Scientists.\n",
    "\n",
    "+ Comment on Data Science tools."
   ]
  },
  {
   "cell_type": "markdown",
   "id": "713a7b3c",
   "metadata": {},
   "source": [
    "# **Exercise 4 - Create a markdown cell to list data science languages**"
   ]
  },
  {
   "cell_type": "markdown",
   "id": "80873104",
   "metadata": {},
   "source": [
    "Some of the popular languages that Data Scientists use are:\n",
    "1. Python.\n",
    "2. R.\n",
    "3. SQL.\n",
    "4. Java.\n",
    "5. Julia.\n",
    "6. Scala.\n",
    "7. C/C++.\n",
    "8. JavaScript.\n",
    "9. PHP.\n",
    "10. Go.\n",
    "11. Ruby.\n",
    "12. Visual Basic."
   ]
  },
  {
   "cell_type": "markdown",
   "id": "47d086c4",
   "metadata": {},
   "source": [
    "# **Exercise 5 - Create a markdown cell to list data science libraries**\n",
    "\n",
    "Some of the commonly used libraries used by Data Scientists include:\n",
    "\n",
    "1. TensorFlow.\n",
    "2. NumPy.\n",
    "3. SciPy.\n",
    "4. Pandas.\n",
    "5. Matplotlib.\n",
    "6. Keras.\n",
    "7. SciKit-Learn.\n",
    "8. PyTorch.\n",
    "9. Scrapy.\n",
    "10. BeautifulSoup.\n",
    "11. LightGBM.\n",
    "12. ELI5.\n",
    "13. Theano.\n",
    "14. NuPIC.\n",
    "15. Ramp.\n",
    "16. Pipenv.\n",
    "17. Bob.\n",
    "18. PyBrain.\n",
    "19. Caffe2.\n",
    "20. Chainer."
   ]
  },
  {
   "cell_type": "markdown",
   "id": "58550166",
   "metadata": {},
   "source": [
    "# **Exercise 6 - Create a markdown cell with a table of Data Science tools**\n",
    "\n",
    "| Data Science Tools |\n",
    "| -------------------|\n",
    "| SAS |\n",
    "| BigML |\n",
    "| Apache Spark |\n",
    "| Anancoda |\n",
    "| Jupyter Notebooks |\n",
    "| R Studio |\n",
    "| Spyder |"
   ]
  },
  {
   "cell_type": "markdown",
   "id": "adbc1fda",
   "metadata": {},
   "source": [
    "# **Exercise 7 - Create a markdown cell introducing arithmetic expression examples**\n",
    "\n",
    "Below are a few examples of evaluating arithmetic expressions in Python"
   ]
  },
  {
   "cell_type": "code",
   "execution_count": 18,
   "id": "18d68591",
   "metadata": {},
   "outputs": [
    {
     "data": {
      "text/plain": [
       "55"
      ]
     },
     "execution_count": 18,
     "metadata": {},
     "output_type": "execute_result"
    }
   ],
   "source": [
    "# Arithmetic operations\n",
    "code_example_001 = compile(\"1 + 2 + 3 + 4 + 5 + 6 + 7 + 8 + 9 + 10\", \"<string>\", \"eval\")\n",
    "eval(code_example_001)\n",
    "# Result: 55"
   ]
  },
  {
   "cell_type": "code",
   "execution_count": 19,
   "id": "8623b2c4",
   "metadata": {},
   "outputs": [
    {
     "data": {
      "text/plain": [
       "1109999998890"
      ]
     },
     "execution_count": 19,
     "metadata": {},
     "output_type": "execute_result"
    }
   ],
   "source": [
    "code_example_002 = compile(\"(123456789 + 987654321) *999\", \"<string>\", \"eval\")\n",
    "eval(code_example_002)\n",
    "# Result: 1109999998890"
   ]
  },
  {
   "cell_type": "code",
   "execution_count": 20,
   "id": "cab0a092",
   "metadata": {},
   "outputs": [
    {
     "data": {
      "text/plain": [
       "2020056986240.5479"
      ]
     },
     "execution_count": 20,
     "metadata": {},
     "output_type": "execute_result"
    }
   ],
   "source": [
    "import math\n",
    "# Volume of a sphere\n",
    "code_example_003 = compile(\"123456789 / 3 * math.pi * math.pow(25, 3)\", \"<string>\", \"eval\")\n",
    "eval(code_example_003)\n",
    "# Result: 2020056986240.5479"
   ]
  },
  {
   "cell_type": "markdown",
   "id": "886e26eb",
   "metadata": {},
   "source": [
    "# **Exercise 8 - Create a code cell to multiply and add numbers**"
   ]
  },
  {
   "cell_type": "code",
   "execution_count": 21,
   "id": "a4195ddb",
   "metadata": {},
   "outputs": [
    {
     "data": {
      "text/plain": [
       "127085589"
      ]
     },
     "execution_count": 21,
     "metadata": {},
     "output_type": "execute_result"
    }
   ],
   "source": [
    "(1*2*3*4*5*6*7*8*9*10)+123456789\n",
    "# Result: 127085589"
   ]
  },
  {
   "cell_type": "markdown",
   "id": "0c12943e",
   "metadata": {},
   "source": [
    "# **Exercise 9 - Create a code cell to convert minutes to hours**"
   ]
  },
  {
   "cell_type": "code",
   "execution_count": 26,
   "id": "896a56dc",
   "metadata": {},
   "outputs": [
    {
     "name": "stdout",
     "output_type": "stream",
     "text": [
      "0 days, 5.0 hours, 0 mins. \n"
     ]
    }
   ],
   "source": [
    "days = 0\n",
    "hours = 0\n",
    "mins = 0\n",
    "\n",
    "time = 300\n",
    "#days = time / 1440 (1 DAY = 24 HOURS = 1440 MINUTES)\n",
    "leftover_minutes = time % 1440\n",
    "hours = leftover_minutes / 60\n",
    "#mins = time - (days*1440) - (hours*60)\n",
    "print(str(days) + \" days, \" + str(hours) + \" hours, \" + str(mins) +  \" mins. \")\n",
    "\n",
    "# Result: 0 days, 5.0 hours, 0 mins. "
   ]
  },
  {
   "cell_type": "markdown",
   "id": "56cc5e06",
   "metadata": {},
   "source": [
    "# **Exercise 10 - Insert a markdown cell to list Objectives**"
   ]
  },
  {
   "cell_type": "markdown",
   "id": "65876746",
   "metadata": {},
   "source": [
    "# **Exercise 11 - Create a markdown cell to indicate the Author’s name**\n"
   ]
  },
  {
   "cell_type": "markdown",
   "id": "17f46d4c",
   "metadata": {},
   "source": [
    "*Author:*\n",
    "\n",
    "**NGUYEN THANH TUAN**"
   ]
  },
  {
   "cell_type": "code",
   "execution_count": null,
   "id": "69743e03",
   "metadata": {},
   "outputs": [],
   "source": []
  }
 ],
 "metadata": {
  "kernelspec": {
   "display_name": "Python 3 (ipykernel)",
   "language": "python",
   "name": "python3"
  },
  "language_info": {
   "codemirror_mode": {
    "name": "ipython",
    "version": 3
   },
   "file_extension": ".py",
   "mimetype": "text/x-python",
   "name": "python",
   "nbconvert_exporter": "python",
   "pygments_lexer": "ipython3",
   "version": "3.9.7"
  }
 },
 "nbformat": 4,
 "nbformat_minor": 5
}
